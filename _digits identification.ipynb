{
 "cells": [
  {
   "cell_type": "code",
   "execution_count": 1,
   "id": "1598bc03-188a-454a-a01e-55549aa556bb",
   "metadata": {},
   "outputs": [],
   "source": [
    "#import keras.sequential\n",
    "import tensorflow as tf\n",
    "from tensorflow.keras.models import Sequential"
   ]
  },
  {
   "cell_type": "code",
   "execution_count": 2,
   "id": "29f2fee7",
   "metadata": {},
   "outputs": [],
   "source": [
    "#downloading MNIST dataset\n",
    "from tensorflow.keras.datasets import mnist\n",
    "(x_train, y_train), (x_test, y_test) = mnist.load_data()"
   ]
  },
  {
   "cell_type": "code",
   "execution_count": 3,
   "id": "cf57b008",
   "metadata": {},
   "outputs": [],
   "source": [
    "#code to normalize the dataset\n",
    "x_train = x_train.reshape(60000, 28, 28, 1)/255\n",
    "x_test = x_test.reshape(10000, 28, 28, 1)/255\n"
   ]
  },
  {
   "cell_type": "code",
   "execution_count": 4,
   "id": "89eab176",
   "metadata": {},
   "outputs": [],
   "source": [
    "from tensorflow.keras.models import Sequential\n",
    "model = Sequential()\n",
    "\n"
   ]
  },
  {
   "cell_type": "code",
   "execution_count": 5,
   "id": "6539604f",
   "metadata": {},
   "outputs": [],
   "source": [
    "from tensorflow.keras.layers import Conv2D\n",
    "model.add(Conv2D(28, (3, 3), input_shape=(28, 28, 1), activation='relu'))\n",
    "\n"
   ]
  },
  {
   "cell_type": "code",
   "execution_count": 6,
   "id": "5a9f1a03",
   "metadata": {},
   "outputs": [],
   "source": [
    "#adding first hidden layer\n",
    "from tensorflow.keras.layers import MaxPooling2D\n",
    "model.add(MaxPooling2D(pool_size=(2, 2)))\n",
    "\n"
   ]
  },
  {
   "cell_type": "code",
   "execution_count": 7,
   "id": "32829c96",
   "metadata": {},
   "outputs": [],
   "source": [
    "#adding a second hidden (flattening layer)\n",
    "from tensorflow.keras.layers import Flatten\n",
    "model.add(Flatten())\n",
    "\n"
   ]
  },
  {
   "cell_type": "code",
   "execution_count": 8,
   "id": "e5d1d58e",
   "metadata": {},
   "outputs": [],
   "source": [
    "# adding third layer (fully connected) and output layer(fully connected)\n",
    "from tensorflow.keras.layers import Dense\n",
    "model.add(Dense(units=128, activation='relu'))\n",
    "\n",
    "model.add(Dense(units=10, activation='softmax'))\n",
    "\n",
    "\n"
   ]
  },
  {
   "cell_type": "code",
   "execution_count": 9,
   "id": "8afc07ff-cf00-47ed-a6f4-ca65786b9c06",
   "metadata": {},
   "outputs": [],
   "source": [
    "#choosing hyperparameters\n",
    "model.compile(optimizer='adam', loss='sparse_categorical_crossentropy', metrics=['accuracy'])\n"
   ]
  },
  {
   "cell_type": "code",
   "execution_count": 10,
   "id": "09f41976-ca7b-4906-9c7a-e48164f2b0ee",
   "metadata": {},
   "outputs": [
    {
     "name": "stdout",
     "output_type": "stream",
     "text": [
      "Epoch 1/10\n",
      "1875/1875 [==============================] - 101s 54ms/step - loss: 0.1478 - accuracy: 0.9570\n",
      "Epoch 2/10\n",
      "1875/1875 [==============================] - 95s 51ms/step - loss: 0.0509 - accuracy: 0.9841\n",
      "Epoch 3/10\n",
      "1875/1875 [==============================] - 99s 53ms/step - loss: 0.0336 - accuracy: 0.9894\n",
      "Epoch 4/10\n",
      "1875/1875 [==============================] - 101s 54ms/step - loss: 0.0207 - accuracy: 0.9935\n",
      "Epoch 5/10\n",
      "1875/1875 [==============================] - 105s 56ms/step - loss: 0.0150 - accuracy: 0.9952\n",
      "Epoch 6/10\n",
      "1875/1875 [==============================] - 105s 56ms/step - loss: 0.0104 - accuracy: 0.9965s - loss: 0.0104 - accura\n",
      "Epoch 7/10\n",
      "1875/1875 [==============================] - 97s 52ms/step - loss: 0.0077 - accuracy: 0.9973\n",
      "Epoch 8/10\n",
      "1875/1875 [==============================] - 108s 58ms/step - loss: 0.0066 - accuracy: 0.9977\n",
      "Epoch 9/10\n",
      "1875/1875 [==============================] - 97s 52ms/step - loss: 0.0051 - accuracy: 0.9983\n",
      "Epoch 10/10\n",
      "1875/1875 [==============================] - 90s 48ms/step - loss: 0.0042 - accuracy: 0.99860s - loss:\n"
     ]
    },
    {
     "data": {
      "text/plain": [
       "<tensorflow.python.keras.callbacks.History at 0x1c17afe8850>"
      ]
     },
     "execution_count": 10,
     "metadata": {},
     "output_type": "execute_result"
    }
   ],
   "source": [
    "#only 10 epochs used for training to reduce processing time\n",
    "model.fit(x_train, y_train, epochs=10)\n"
   ]
  },
  {
   "cell_type": "code",
   "execution_count": 11,
   "id": "f130655b-5bca-4b22-a9b1-fc51547e5098",
   "metadata": {},
   "outputs": [
    {
     "name": "stdout",
     "output_type": "stream",
     "text": [
      "313/313 [==============================] - 4s 14ms/step - loss: 0.0589 - accuracy: 0.9878\n"
     ]
    }
   ],
   "source": [
    "#testing the model and returning test results\n",
    "loss, accuracy = model.evaluate(x_test, y_test)"
   ]
  }
 ],
 "metadata": {
  "kernelspec": {
   "display_name": "Python 3 (ipykernel)",
   "language": "python",
   "name": "python3"
  },
  "language_info": {
   "codemirror_mode": {
    "name": "ipython",
    "version": 3
   },
   "file_extension": ".py",
   "mimetype": "text/x-python",
   "name": "python",
   "nbconvert_exporter": "python",
   "pygments_lexer": "ipython3",
   "version": "3.8.19"
  }
 },
 "nbformat": 4,
 "nbformat_minor": 5
}
